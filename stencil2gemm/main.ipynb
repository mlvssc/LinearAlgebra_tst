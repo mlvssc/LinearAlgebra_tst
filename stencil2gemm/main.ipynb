{
 "cells": [
  {
   "cell_type": "code",
   "execution_count": 1,
   "id": "e67a6b94",
   "metadata": {},
   "outputs": [
    {
     "name": "stdout",
     "output_type": "stream",
     "text": [
      "[0, 1, -1, -1, 2, -1]\n",
      "[1, 0, -1, -1, 3, -1]\n",
      "[-1, -1, 0, 2, 4, -1]\n",
      "[-1, -1, 2, 0, -1, 2]\n",
      "[2, 3, 4, -1, 0, 1]\n",
      "[-1, -1, -1, 2, 1, 0]\n",
      "-------------------------\n",
      "[0, 1, -1, -1, 2, -1]\n",
      "[1, 0, -1, -1, 3, -1]\n",
      "[-1, -1, 0, 2, 4, -1]\n",
      "[-1, -1, 2, 0, -1, 2]\n",
      "[2, 3, 4, -1, 0, 1]\n",
      "[-1, -1, -1, 2, 1, 0]\n",
      "-------------------------\n",
      "[0, 1, -1, -1, 2, -1]\n",
      "[1, 0, -1, -1, 3, -1]\n",
      "[-1, -1, 0, 2, 4, -1]\n",
      "[-1, -1, 2, 0, -1, 2]\n",
      "[2, 3, 4, -1, 0, 1]\n",
      "[-1, -1, -1, 2, 1, 0]\n",
      "-------------------------\n",
      "[0, 1, -1, -1, 2, -1]\n",
      "[1, 0, -1, -1, 3, -1]\n",
      "[-1, -1, 0, 2, 4, -1]\n",
      "[-1, -1, 2, 0, 6, 2]\n",
      "[2, 3, 4, 6, 0, 1]\n",
      "[-1, -1, -1, 2, 1, 0]\n",
      "-------------------------\n",
      "[0, 1, -1, -1, 2, -1]\n",
      "[1, 0, -1, -1, 3, -1]\n",
      "[-1, -1, 0, 2, 4, 4]\n",
      "[-1, -1, 2, 0, 6, 2]\n",
      "[2, 3, 4, 6, 0, 1]\n",
      "[-1, -1, 4, 2, 1, 0]\n",
      "-------------------------\n",
      "[0, 1, 6, 8, 2, 3]\n",
      "[1, 0, 7, 9, 3, 4]\n",
      "[6, 7, 0, 2, 4, 4]\n",
      "[8, 9, 2, 0, 6, 2]\n",
      "[2, 3, 4, 6, 0, 1]\n",
      "[3, 4, 4, 2, 1, 0]\n",
      "-------------------------\n"
     ]
    }
   ],
   "source": [
    "def srg(a_mat, intn):\n",
    "    for k in range(0,intn):\n",
    "        printMat(a_mat,intn)\n",
    "        for i in range(0,intn):\n",
    "            for j in range(0,intn):\n",
    "                t_dist = a_mat[i][k]+a_mat[k][j]\n",
    "                if (a_mat[i][k]==-1 or a_mat[k][j]==-1):\n",
    "                    t_dist = -1\n",
    "                if (a_mat[i][j] == -1):\n",
    "                    a_mat[i][j] = t_dist\n",
    "                else:\n",
    "                    if(t_dist!=-1 and a_mat[i][j]>t_dist):\n",
    "                        a_mat[i][j]=t_dist\n",
    "\n",
    "def printMat(a_mat,intn):\n",
    "    for i in range(0,intn):\n",
    "        print(a_mat[i])\n",
    "    print(\"-------------------------\")\n",
    "\n",
    "Amat = [[ 0,  1, -1, -1,  2, -1],\n",
    "        [ 1,  0, -1, -1,  3, -1],\n",
    "        [-1, -1,  0,  2,  4, -1],\n",
    "        [-1, -1,  2,  0, -1,  2],\n",
    "        [ 2,  3,  4, -1,  0,  1],\n",
    "        [-1, -1, -1,  2,  1,  0]]\n",
    "\n",
    "srg(Amat,6)\n"
   ]
  }
 ],
 "metadata": {
  "kernelspec": {
   "display_name": "Python 3 (ipykernel)",
   "language": "python",
   "name": "python3"
  },
  "language_info": {
   "codemirror_mode": {
    "name": "ipython",
    "version": 3
   },
   "file_extension": ".py",
   "mimetype": "text/x-python",
   "name": "python",
   "nbconvert_exporter": "python",
   "pygments_lexer": "ipython3",
   "version": "3.9.7"
  }
 },
 "nbformat": 4,
 "nbformat_minor": 5
}
